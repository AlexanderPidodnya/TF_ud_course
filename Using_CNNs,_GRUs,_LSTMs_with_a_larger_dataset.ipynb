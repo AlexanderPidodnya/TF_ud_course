{
  "nbformat": 4,
  "nbformat_minor": 0,
  "metadata": {
    "colab": {
      "name": "Using CNNs, GRUs, LSTMs with a larger dataset.ipynb",
      "provenance": [],
      "authorship_tag": "ABX9TyNVqrrjji9m+y42kcxWExZT",
      "include_colab_link": true
    },
    "kernelspec": {
      "name": "python3",
      "display_name": "Python 3"
    },
    "language_info": {
      "name": "python"
    }
  },
  "cells": [
    {
      "cell_type": "markdown",
      "metadata": {
        "id": "view-in-github",
        "colab_type": "text"
      },
      "source": [
        "<a href=\"https://colab.research.google.com/github/AlexanderPidodnya/TF_ud_course/blob/first/Using_CNNs%2C_GRUs%2C_LSTMs_with_a_larger_dataset.ipynb\" target=\"_parent\"><img src=\"https://colab.research.google.com/assets/colab-badge.svg\" alt=\"Open In Colab\"/></a>"
      ]
    },
    {
      "cell_type": "code",
      "execution_count": 1,
      "metadata": {
        "id": "HN13dVi7RkGO"
      },
      "outputs": [],
      "source": [
        "%tensorflow_version 2.x\n",
        "import tensorflow as tf\n",
        "import tensorflow_datasets as tfds\n",
        "import numpy as np\n",
        "import io\n",
        "import pandas as pd\n"
      ]
    },
    {
      "cell_type": "code",
      "source": [
        "URL = 'https://dl.fbaipublicfiles.com/glue/data/SST-2.zip'\n",
        "path = tf.keras.utils.get_file('SST-2.zip', origin = URL)\n",
        "path"
      ],
      "metadata": {
        "colab": {
          "base_uri": "https://localhost:8080/",
          "height": 87
        },
        "id": "dpxokXIhTkxE",
        "outputId": "4059c227-70ac-425c-81f8-a4ec76b8ecc5"
      },
      "execution_count": 2,
      "outputs": [
        {
          "output_type": "stream",
          "name": "stdout",
          "text": [
            "Downloading data from https://dl.fbaipublicfiles.com/glue/data/SST-2.zip\n",
            "7446528/7439277 [==============================] - 0s 0us/step\n",
            "7454720/7439277 [==============================] - 0s 0us/step\n"
          ]
        },
        {
          "output_type": "execute_result",
          "data": {
            "text/plain": [
              "'/root/.keras/datasets/SST-2.zip'"
            ],
            "application/vnd.google.colaboratory.intrinsic+json": {
              "type": "string"
            }
          },
          "metadata": {},
          "execution_count": 2
        }
      ]
    },
    {
      "cell_type": "code",
      "source": [
        "!mkdir dataset"
      ],
      "metadata": {
        "id": "WbUNtbCUUfg_"
      },
      "execution_count": 3,
      "outputs": []
    },
    {
      "cell_type": "code",
      "source": [
        "!unzip -q {path} -d /content/dataset"
      ],
      "metadata": {
        "id": "VNgYkJxPUb83"
      },
      "execution_count": 5,
      "outputs": []
    },
    {
      "cell_type": "code",
      "source": [
        "df_train= pd.read_csv('/content/dataset/SST-2/train.tsv', sep = '\\t')\n",
        "df_test = pd.read_csv('/content/dataset/SST-2/dev.tsv', sep = '\\t')"
      ],
      "metadata": {
        "id": "Hm_u83y3gkeC"
      },
      "execution_count": 25,
      "outputs": []
    },
    {
      "cell_type": "code",
      "source": [
        "d_sent = tf.data.Dataset.from_tensor_slices(df_train['sentence'])\n",
        "d_lab = tf.data.Dataset.from_tensor_slices(df_train['label'])\n",
        "dataset_train = tf.data.Dataset.zip((d_sent, d_lab))\n",
        "\n",
        "d_sent = tf.data.Dataset.from_tensor_slices(df_test['sentence'])\n",
        "d_lab = tf.data.Dataset.from_tensor_slices(df_test['label'])\n",
        "dataset_validation = tf.data.Dataset.zip((d_sent, d_lab))\n",
        "\n",
        "training_reviews = []\n",
        "training_labels = []\n",
        "\n",
        "validation_reviews = []\n",
        "validation_labels = []\n",
        "\n",
        "for d in dataset_train.take(40000):\n",
        "  review, label = d[0], d[1]\n",
        "  training_reviews.append(str(review.numpy()))\n",
        "  training_labels.append(float(label.numpy()))\n",
        "\n",
        "print('\\nNumber of training reviews is:', len(training_reviews))\n",
        "\n",
        "for d in dataset_validation:\n",
        "  review, label = d[0], d[1]\n",
        "  validation_reviews.append(str(review.numpy()))\n",
        "  validation_labels.append(float(label.numpy()))\n",
        "\n",
        "print('\\nNumber of validation reviews is:', len(validation_reviews))"
      ],
      "metadata": {
        "colab": {
          "base_uri": "https://localhost:8080/"
        },
        "id": "FR8VnvueoRt2",
        "outputId": "e5d8e60d-1204-4fa1-9a5f-29ebe9b348ad"
      },
      "execution_count": 26,
      "outputs": [
        {
          "output_type": "stream",
          "name": "stdout",
          "text": [
            "\n",
            "Number of training reviews is: 40000\n",
            "\n",
            "Number of validation reviews is: 872\n"
          ]
        }
      ]
    },
    {
      "cell_type": "code",
      "source": [
        "print(training_reviews[:5], training_labels[:5])\n",
        "print(validation_reviews[:5], validation_labels[:5])"
      ],
      "metadata": {
        "colab": {
          "base_uri": "https://localhost:8080/"
        },
        "id": "W22TR3h6SM0U",
        "outputId": "1ee15bdb-da7f-49ed-fd64-45959d43ff5b"
      },
      "execution_count": 28,
      "outputs": [
        {
          "output_type": "stream",
          "name": "stdout",
          "text": [
            "[\"b'hide new secretions from the parental units '\", \"b'contains no wit , only labored gags '\", \"b'that loves its characters and communicates something rather beautiful about human nature '\", \"b'remains utterly satisfied to remain the same throughout '\", \"b'on the worst revenge-of-the-nerds clich\\\\xc3\\\\xa9s the filmmakers could dredge up '\"] [0.0, 0.0, 1.0, 0.0, 0.0]\n",
            "['b\"it \\'s a charming and often affecting journey . \"', \"b'unflinchingly bleak and desperate '\", \"b'allows us to hope that nolan is poised to embark a major career as a commercial yet inventive filmmaker . '\", 'b\"the acting , costumes , music , cinematography and sound are all astounding given the production \\'s austere locales . \"', 'b\"it \\'s slow -- very , very slow . \"'] [1.0, 0.0, 1.0, 1.0, 0.0]\n"
          ]
        }
      ]
    },
    {
      "cell_type": "markdown",
      "source": [
        "#Tokenize the words and sequence the sentences"
      ],
      "metadata": {
        "id": "NCTuc2cnrqn4"
      }
    },
    {
      "cell_type": "code",
      "source": [
        "vocab_size = 4000\n",
        "embedding_dim = 16\n",
        "max_length = 50\n",
        "trunc_type = 'post'\n",
        "pad_type = 'post'\n",
        "OOV_tok = '<OOV>'\n",
        "\n",
        "from tensorflow.keras.preprocessing.text import Tokenizer\n",
        "from tensorflow.keras.preprocessing.sequence import pad_sequences\n",
        "\n",
        "tokenizer = Tokenizer(num_words = vocab_size, oov_token = OOV_tok)\n",
        "tokenizer.fit_on_texts(training_reviews)\n",
        "word_index = tokenizer.word_index"
      ],
      "metadata": {
        "id": "1NeegZzEr_eZ"
      },
      "execution_count": 8,
      "outputs": []
    },
    {
      "cell_type": "markdown",
      "source": [
        "#Pad the sequences"
      ],
      "metadata": {
        "id": "nuAxbVCONC8v"
      }
    },
    {
      "cell_type": "code",
      "source": [
        "training_sequences = tokenizer.texts_to_sequences(training_reviews)\n",
        "training_padded = pad_sequences(training_sequences, maxlen=max_length, truncating=trunc_type, padding=pad_type)\n",
        "\n",
        "validation_sequences = tokenizer.texts_to_sequences(validation_reviews)\n",
        "validation_padded = pad_sequences(validation_sequences, maxlen=max_length, truncating=trunc_type, padding=pad_type)\n",
        "\n",
        "training_labels_final = np.array(training_labels)\n",
        "validation_labels_final = np.array(validation_labels)\n"
      ],
      "metadata": {
        "id": "4UIYFEJMNHyk"
      },
      "execution_count": 29,
      "outputs": []
    },
    {
      "cell_type": "markdown",
      "source": [
        "#Create the model using an Embedding"
      ],
      "metadata": {
        "id": "fNm11GZgOLoz"
      }
    },
    {
      "cell_type": "code",
      "source": [
        "model = tf.keras.Sequential([\n",
        "  tf.keras.layers.Embedding(vocab_size, embedding_dim, input_length=max_length),\n",
        "  tf.keras.layers.GlobalAveragePooling1D(),\n",
        "  tf.keras.layers.Dense(6, activation='relu'),\n",
        "  tf.keras.layers.Dense(1, activation='sigmoid')\n",
        "])\n",
        "\n",
        "model.compile(loss='binary_crossentropy', optimizer='adam', metrics = ['accuracy'])\n",
        "model.summary()"
      ],
      "metadata": {
        "colab": {
          "base_uri": "https://localhost:8080/"
        },
        "id": "9w6iUXQPOR37",
        "outputId": "b53f2eff-9926-4f21-cfdc-a3fe547b1f20"
      },
      "execution_count": 30,
      "outputs": [
        {
          "output_type": "stream",
          "name": "stdout",
          "text": [
            "Model: \"sequential_1\"\n",
            "_________________________________________________________________\n",
            " Layer (type)                Output Shape              Param #   \n",
            "=================================================================\n",
            " embedding_2 (Embedding)     (None, 50, 16)            64000     \n",
            "                                                                 \n",
            " global_average_pooling1d_2   (None, 16)               0         \n",
            " (GlobalAveragePooling1D)                                        \n",
            "                                                                 \n",
            " dense_2 (Dense)             (None, 6)                 102       \n",
            "                                                                 \n",
            " dense_3 (Dense)             (None, 1)                 7         \n",
            "                                                                 \n",
            "=================================================================\n",
            "Total params: 64,109\n",
            "Trainable params: 64,109\n",
            "Non-trainable params: 0\n",
            "_________________________________________________________________\n"
          ]
        }
      ]
    },
    {
      "cell_type": "markdown",
      "source": [
        "#Train the model"
      ],
      "metadata": {
        "id": "xHu-WblmPZCD"
      }
    },
    {
      "cell_type": "code",
      "source": [
        "num_epochs = 25\n",
        "history = model.fit(training_padded, training_labels_final, epochs=num_epochs, validation_data=(validation_padded, validation_labels_final))"
      ],
      "metadata": {
        "colab": {
          "base_uri": "https://localhost:8080/"
        },
        "id": "q5-43eHvP0wl",
        "outputId": "56cc65e2-5946-49ed-a62f-563d4907c46f"
      },
      "execution_count": 31,
      "outputs": [
        {
          "output_type": "stream",
          "name": "stdout",
          "text": [
            "Epoch 1/25\n",
            "1250/1250 [==============================] - 4s 3ms/step - loss: 0.6328 - accuracy: 0.6274 - val_loss: 0.5000 - val_accuracy: 0.7615\n",
            "Epoch 2/25\n",
            "1250/1250 [==============================] - 3s 2ms/step - loss: 0.4386 - accuracy: 0.7936 - val_loss: 0.4784 - val_accuracy: 0.8016\n",
            "Epoch 3/25\n",
            "1250/1250 [==============================] - 3s 2ms/step - loss: 0.3714 - accuracy: 0.8230 - val_loss: 0.5166 - val_accuracy: 0.7764\n",
            "Epoch 4/25\n",
            "1250/1250 [==============================] - 3s 2ms/step - loss: 0.3470 - accuracy: 0.8314 - val_loss: 0.5466 - val_accuracy: 0.7775\n",
            "Epoch 5/25\n",
            "1250/1250 [==============================] - 3s 2ms/step - loss: 0.3329 - accuracy: 0.8388 - val_loss: 0.5594 - val_accuracy: 0.7798\n",
            "Epoch 6/25\n",
            "1250/1250 [==============================] - 3s 2ms/step - loss: 0.3240 - accuracy: 0.8446 - val_loss: 0.5752 - val_accuracy: 0.7833\n",
            "Epoch 7/25\n",
            "1250/1250 [==============================] - 3s 3ms/step - loss: 0.3166 - accuracy: 0.8462 - val_loss: 0.5839 - val_accuracy: 0.7844\n",
            "Epoch 8/25\n",
            "1250/1250 [==============================] - 3s 3ms/step - loss: 0.3123 - accuracy: 0.8476 - val_loss: 0.6052 - val_accuracy: 0.7729\n",
            "Epoch 9/25\n",
            "1250/1250 [==============================] - 3s 2ms/step - loss: 0.3081 - accuracy: 0.8507 - val_loss: 0.6208 - val_accuracy: 0.7752\n",
            "Epoch 10/25\n",
            "1250/1250 [==============================] - 3s 3ms/step - loss: 0.3056 - accuracy: 0.8507 - val_loss: 0.6246 - val_accuracy: 0.7741\n",
            "Epoch 11/25\n",
            "1250/1250 [==============================] - 4s 3ms/step - loss: 0.3025 - accuracy: 0.8525 - val_loss: 0.6283 - val_accuracy: 0.7718\n",
            "Epoch 12/25\n",
            "1250/1250 [==============================] - 3s 3ms/step - loss: 0.2999 - accuracy: 0.8546 - val_loss: 0.6434 - val_accuracy: 0.7764\n",
            "Epoch 13/25\n",
            "1250/1250 [==============================] - 3s 2ms/step - loss: 0.2978 - accuracy: 0.8547 - val_loss: 0.6719 - val_accuracy: 0.7615\n",
            "Epoch 14/25\n",
            "1250/1250 [==============================] - 3s 3ms/step - loss: 0.2967 - accuracy: 0.8564 - val_loss: 0.6469 - val_accuracy: 0.7752\n",
            "Epoch 15/25\n",
            "1250/1250 [==============================] - 4s 3ms/step - loss: 0.2946 - accuracy: 0.8569 - val_loss: 0.6631 - val_accuracy: 0.7718\n",
            "Epoch 16/25\n",
            "1250/1250 [==============================] - 3s 3ms/step - loss: 0.2922 - accuracy: 0.8562 - val_loss: 0.6850 - val_accuracy: 0.7741\n",
            "Epoch 17/25\n",
            "1250/1250 [==============================] - 3s 2ms/step - loss: 0.2905 - accuracy: 0.8573 - val_loss: 0.6862 - val_accuracy: 0.7672\n",
            "Epoch 18/25\n",
            "1250/1250 [==============================] - 3s 2ms/step - loss: 0.2889 - accuracy: 0.8586 - val_loss: 0.7058 - val_accuracy: 0.7718\n",
            "Epoch 19/25\n",
            "1250/1250 [==============================] - 3s 2ms/step - loss: 0.2877 - accuracy: 0.8576 - val_loss: 0.7454 - val_accuracy: 0.7638\n",
            "Epoch 20/25\n",
            "1250/1250 [==============================] - 3s 2ms/step - loss: 0.2853 - accuracy: 0.8600 - val_loss: 0.7260 - val_accuracy: 0.7718\n",
            "Epoch 21/25\n",
            "1250/1250 [==============================] - 3s 3ms/step - loss: 0.2836 - accuracy: 0.8615 - val_loss: 0.7362 - val_accuracy: 0.7672\n",
            "Epoch 22/25\n",
            "1250/1250 [==============================] - 3s 3ms/step - loss: 0.2813 - accuracy: 0.8621 - val_loss: 0.7497 - val_accuracy: 0.7672\n",
            "Epoch 23/25\n",
            "1250/1250 [==============================] - 3s 3ms/step - loss: 0.2798 - accuracy: 0.8630 - val_loss: 0.7724 - val_accuracy: 0.7683\n",
            "Epoch 24/25\n",
            "1250/1250 [==============================] - 3s 3ms/step - loss: 0.2778 - accuracy: 0.8635 - val_loss: 0.8274 - val_accuracy: 0.7718\n",
            "Epoch 25/25\n",
            "1250/1250 [==============================] - 3s 2ms/step - loss: 0.2759 - accuracy: 0.8626 - val_loss: 0.7914 - val_accuracy: 0.7649\n"
          ]
        }
      ]
    },
    {
      "cell_type": "code",
      "source": [
        "import matplotlib.pyplot as plt\n",
        "def plot_graph(history, string):\n",
        "  plt.plot(history.history[string])\n",
        "  plt.plot(history.history['val_'+string])\n",
        "  plt.xlabel('Epochs')\n",
        "  plt.ylabel(string)\n",
        "  plt.legend([string,'val_'+string])\n",
        "  plt.show()\n",
        "\n",
        "plot_graph(history, 'accuracy')\n",
        "plot_graph(history, 'loss')"
      ],
      "metadata": {
        "colab": {
          "base_uri": "https://localhost:8080/",
          "height": 541
        },
        "id": "2loX6efvhZvj",
        "outputId": "d20b1d7c-d959-4b9e-defe-732f56148bad"
      },
      "execution_count": 32,
      "outputs": [
        {
          "output_type": "display_data",
          "data": {
            "text/plain": [
              "<Figure size 432x288 with 1 Axes>"
            ],
            "image/png": "[encoded data removed]"
          },
          "metadata": {
            "needs_background": "light"
          }
        },
        {
          "output_type": "display_data",
          "data": {
            "text/plain": [
              "<Figure size 432x288 with 1 Axes>"
            ],
            "image/png": "[encoded data removed]"
          },
          "metadata": {
            "needs_background": "light"
          }
        }
      ]
    },
    {
      "cell_type": "markdown",
      "source": [
        "#Write a function to predict the sentiment of reviews"
      ],
      "metadata": {
        "id": "JHe9K6DxTytn"
      }
    },
    {
      "cell_type": "code",
      "source": [
        "new_reviews = validation_reviews[:15]\n",
        "new_reviews\n"
      ],
      "metadata": {
        "colab": {
          "base_uri": "https://localhost:8080/"
        },
        "id": "fsK9SKK9Ti0U",
        "outputId": "7acd3289-3d75-41bd-9e00-af27b5763259"
      },
      "execution_count": 37,
      "outputs": [
        {
          "output_type": "execute_result",
          "data": {
            "text/plain": [
              "['b\"it \\'s a charming and often affecting journey . \"',\n",
              " \"b'unflinchingly bleak and desperate '\",\n",
              " \"b'allows us to hope that nolan is poised to embark a major career as a commercial yet inventive filmmaker . '\",\n",
              " 'b\"the acting , costumes , music , cinematography and sound are all astounding given the production \\'s austere locales . \"',\n",
              " 'b\"it \\'s slow -- very , very slow . \"',\n",
              " \"b'although laced with humor and a few fanciful touches , the film is a refreshingly serious look at young women . '\",\n",
              " \"b'a sometimes tedious film . '\",\n",
              " 'b\"or doing last year \\'s taxes with your ex-wife . \"',\n",
              " 'b\"you do n\\'t have to know about music to appreciate the film \\'s easygoing blend of comedy and romance . \"',\n",
              " 'b\"in exactly 89 minutes , most of which passed as slowly as if i \\'d been sitting naked on an igloo , formula 51 sank from quirky to jerky to utter turkey . \"',\n",
              " \"b'the mesmerizing performances of the leads keep the film grounded and keep the audience riveted . '\",\n",
              " \"b'it takes a strange kind of laziness to waste the talents of robert forster , anne meara , eugene levy , and reginald veljohnson all in the same movie . '\",\n",
              " \"b'... the film suffers from a lack of humor ( something needed to balance out the violence ) ... '\",\n",
              " 'b\"we root for ( clara and paul ) , even like them , though perhaps it \\'s an emotion closer to pity . \"',\n",
              " 'b\"even horror fans will most likely not find what they \\'re seeking with trouble every day ; the movie lacks both thrills and humor . \"']"
            ]
          },
          "metadata": {},
          "execution_count": 37
        }
      ]
    },
    {
      "cell_type": "code",
      "source": [
        "def predict_review(model, reviews):\n",
        "  padding_type = 'post'\n",
        "  sample_sequences = tokenizer.texts_to_sequences(reviews)\n",
        "  reviews_padded = pad_sequences(sample_sequences, padding=padding_type, maxlen=max_length)\n",
        "  classes = model.predict(reviews_padded)\n",
        "  for r,c in zip(reviews, classes):\n",
        "    print(r, c, '\\n')\n",
        "\n",
        "predict_review(model ,new_reviews)\n"
      ],
      "metadata": {
        "colab": {
          "base_uri": "https://localhost:8080/"
        },
        "id": "fJaM0b--T-gO",
        "outputId": "b6fe1650-57f3-4101-f1cf-4f059362b1a4"
      },
      "execution_count": 38,
      "outputs": [
        {
          "output_type": "stream",
          "name": "stdout",
          "text": [
            "b\"it 's a charming and often affecting journey . \" [0.99985164] \n",
            "\n",
            "b'unflinchingly bleak and desperate ' [0.02669868] \n",
            "\n",
            "b'allows us to hope that nolan is poised to embark a major career as a commercial yet inventive filmmaker . ' [0.99109495] \n",
            "\n",
            "b\"the acting , costumes , music , cinematography and sound are all astounding given the production 's austere locales . \" [0.99988616] \n",
            "\n",
            "b\"it 's slow -- very , very slow . \" [0.06218523] \n",
            "\n",
            "b'although laced with humor and a few fanciful touches , the film is a refreshingly serious look at young women . ' [0.99999934] \n",
            "\n",
            "b'a sometimes tedious film . ' [0.05466375] \n",
            "\n",
            "b\"or doing last year 's taxes with your ex-wife . \" [0.24012893] \n",
            "\n",
            "b\"you do n't have to know about music to appreciate the film 's easygoing blend of comedy and romance . \" [0.9990753] \n",
            "\n",
            "b\"in exactly 89 minutes , most of which passed as slowly as if i 'd been sitting naked on an igloo , formula 51 sank from quirky to jerky to utter turkey . \" [0.00146508] \n",
            "\n",
            "b'the mesmerizing performances of the leads keep the film grounded and keep the audience riveted . ' [1.] \n",
            "\n",
            "b'it takes a strange kind of laziness to waste the talents of robert forster , anne meara , eugene levy , and reginald veljohnson all in the same movie . ' [0.00291914] \n",
            "\n",
            "b'... the film suffers from a lack of humor ( something needed to balance out the violence ) ... ' [2.4169922e-05] \n",
            "\n",
            "b\"we root for ( clara and paul ) , even like them , though perhaps it 's an emotion closer to pity . \" [0.01377395] \n",
            "\n",
            "b\"even horror fans will most likely not find what they 're seeking with trouble every day ; the movie lacks both thrills and humor . \" [0.11164454] \n",
            "\n"
          ]
        }
      ]
    },
    {
      "cell_type": "markdown",
      "source": [
        "#Define a function to train and show the results of model"
      ],
      "metadata": {
        "id": "1IdpPp7PVVDH"
      }
    },
    {
      "cell_type": "code",
      "source": [
        "def fit_model_and_show_results(model1, review):\n",
        "  num_epochs = 25\n",
        "  history = model1.fit(training_padded, training_labels_final, epochs=num_epochs, validation_data=(validation_padded, validation_labels_final))  \n",
        "  plot_graph(history, 'accuracy')\n",
        "  plot_graph(history, 'loss')\n",
        "  predict_review(model1 ,new_reviews)"
      ],
      "metadata": {
        "id": "ddjK0IXeVfA4"
      },
      "execution_count": 41,
      "outputs": []
    },
    {
      "cell_type": "markdown",
      "source": [
        "#Use a CNN"
      ],
      "metadata": {
        "id": "r_cBuoMBWGKt"
      }
    },
    {
      "cell_type": "code",
      "source": [
        "model_cnn = tf.keras.Sequential([\n",
        "  tf.keras.layers.Embedding(vocab_size, embedding_dim, input_length=max_length),\n",
        "  tf.keras.layers.Conv1D(128, 5, activation='relu'),\n",
        "  tf.keras.layers.GlobalAveragePooling1D(),\n",
        "  tf.keras.layers.Dense(6, activation='relu'),\n",
        "  tf.keras.layers.Dense(1, activation='sigmoid')\n",
        "])\n",
        "\n",
        "model_cnn.compile(loss='binary_crossentropy', optimizer='adam', metrics = ['accuracy'])\n",
        "model_cnn.summary()\n",
        "\n",
        "fit_model_and_show_results(model_cnn, review)"
      ],
      "metadata": {
        "colab": {
          "base_uri": "https://localhost:8080/",
          "height": 1000
        },
        "id": "FqCwsxlYWI5W",
        "outputId": "968a514b-9532-4b49-84cb-8896b14f44c8"
      },
      "execution_count": 42,
      "outputs": [
        {
          "output_type": "stream",
          "name": "stdout",
          "text": [
            "Model: \"sequential_3\"\n",
            "_________________________________________________________________\n",
            " Layer (type)                Output Shape              Param #   \n",
            "=================================================================\n",
            " embedding_4 (Embedding)     (None, 50, 16)            64000     \n",
            "                                                                 \n",
            " conv1d_1 (Conv1D)           (None, 46, 128)           10368     \n",
            "                                                                 \n",
            " global_average_pooling1d_4   (None, 128)              0         \n",
            " (GlobalAveragePooling1D)                                        \n",
            "                                                                 \n",
            " dense_6 (Dense)             (None, 6)                 774       \n",
            "                                                                 \n",
            " dense_7 (Dense)             (None, 1)                 7         \n",
            "                                                                 \n",
            "=================================================================\n",
            "Total params: 75,149\n",
            "Trainable params: 75,149\n",
            "Non-trainable params: 0\n",
            "_________________________________________________________________\n",
            "Epoch 1/25\n",
            "1250/1250 [==============================] - 10s 8ms/step - loss: 0.5555 - accuracy: 0.7215 - val_loss: 0.5223 - val_accuracy: 0.7833\n",
            "Epoch 2/25\n",
            "1250/1250 [==============================] - 10s 8ms/step - loss: 0.4024 - accuracy: 0.8237 - val_loss: 0.5357 - val_accuracy: 0.7913\n",
            "Epoch 3/25\n",
            "1250/1250 [==============================] - 9s 7ms/step - loss: 0.3507 - accuracy: 0.8430 - val_loss: 0.5344 - val_accuracy: 0.7982\n",
            "Epoch 4/25\n",
            "1250/1250 [==============================] - 10s 8ms/step - loss: 0.3201 - accuracy: 0.8557 - val_loss: 0.5549 - val_accuracy: 0.7993\n",
            "Epoch 5/25\n",
            "1250/1250 [==============================] - 9s 7ms/step - loss: 0.2982 - accuracy: 0.8645 - val_loss: 0.5988 - val_accuracy: 0.7901\n",
            "Epoch 6/25\n",
            "1250/1250 [==============================] - 9s 8ms/step - loss: 0.2820 - accuracy: 0.8716 - val_loss: 0.6401 - val_accuracy: 0.7947\n",
            "Epoch 7/25\n",
            "1250/1250 [==============================] - 9s 8ms/step - loss: 0.2665 - accuracy: 0.8790 - val_loss: 0.6888 - val_accuracy: 0.7901\n",
            "Epoch 8/25\n",
            "1250/1250 [==============================] - 9s 7ms/step - loss: 0.2547 - accuracy: 0.8845 - val_loss: 0.7975 - val_accuracy: 0.7821\n",
            "Epoch 9/25\n",
            "1250/1250 [==============================] - 9s 7ms/step - loss: 0.2420 - accuracy: 0.8891 - val_loss: 0.8637 - val_accuracy: 0.7844\n",
            "Epoch 10/25\n",
            "1250/1250 [==============================] - 10s 8ms/step - loss: 0.2333 - accuracy: 0.8931 - val_loss: 0.8315 - val_accuracy: 0.7867\n",
            "Epoch 11/25\n",
            "1250/1250 [==============================] - 10s 8ms/step - loss: 0.2239 - accuracy: 0.8974 - val_loss: 0.9759 - val_accuracy: 0.7833\n",
            "Epoch 12/25\n",
            "1250/1250 [==============================] - 10s 8ms/step - loss: 0.2158 - accuracy: 0.9008 - val_loss: 0.9467 - val_accuracy: 0.7741\n",
            "Epoch 13/25\n",
            "1250/1250 [==============================] - 10s 8ms/step - loss: 0.2099 - accuracy: 0.9031 - val_loss: 1.1817 - val_accuracy: 0.7695\n",
            "Epoch 14/25\n",
            "1250/1250 [==============================] - 9s 7ms/step - loss: 0.2036 - accuracy: 0.9066 - val_loss: 1.0636 - val_accuracy: 0.7718\n",
            "Epoch 15/25\n",
            "1250/1250 [==============================] - 9s 7ms/step - loss: 0.1996 - accuracy: 0.9073 - val_loss: 1.2141 - val_accuracy: 0.7810\n",
            "Epoch 16/25\n",
            "1250/1250 [==============================] - 10s 8ms/step - loss: 0.1956 - accuracy: 0.9087 - val_loss: 1.2012 - val_accuracy: 0.7741\n",
            "Epoch 17/25\n",
            "1250/1250 [==============================] - 9s 7ms/step - loss: 0.1922 - accuracy: 0.9118 - val_loss: 1.2838 - val_accuracy: 0.7810\n",
            "Epoch 18/25\n",
            "1250/1250 [==============================] - 10s 8ms/step - loss: 0.1889 - accuracy: 0.9125 - val_loss: 1.3906 - val_accuracy: 0.7683\n",
            "Epoch 19/25\n",
            "1250/1250 [==============================] - 9s 7ms/step - loss: 0.1866 - accuracy: 0.9150 - val_loss: 1.3257 - val_accuracy: 0.7741\n",
            "Epoch 20/25\n",
            "1250/1250 [==============================] - 9s 7ms/step - loss: 0.1830 - accuracy: 0.9160 - val_loss: 1.2517 - val_accuracy: 0.7615\n",
            "Epoch 21/25\n",
            "1250/1250 [==============================] - 10s 8ms/step - loss: 0.1829 - accuracy: 0.9166 - val_loss: 1.4493 - val_accuracy: 0.7649\n",
            "Epoch 22/25\n",
            "1250/1250 [==============================] - 9s 7ms/step - loss: 0.1791 - accuracy: 0.9175 - val_loss: 1.4825 - val_accuracy: 0.7718\n",
            "Epoch 23/25\n",
            "1250/1250 [==============================] - 10s 8ms/step - loss: 0.1777 - accuracy: 0.9193 - val_loss: 1.4072 - val_accuracy: 0.7718\n",
            "Epoch 24/25\n",
            "1250/1250 [==============================] - 10s 8ms/step - loss: 0.1766 - accuracy: 0.9181 - val_loss: 1.5812 - val_accuracy: 0.7661\n",
            "Epoch 25/25\n",
            "1250/1250 [==============================] - 9s 7ms/step - loss: 0.1742 - accuracy: 0.9207 - val_loss: 1.6202 - val_accuracy: 0.7706\n"
          ]
        },
        {
          "output_type": "display_data",
          "data": {
            "text/plain": [
              "<Figure size 432x288 with 1 Axes>"
            ],
            "image/png": "[encoded data removed]"
          },
          "metadata": {
            "needs_background": "light"
          }
        },
        {
          "output_type": "display_data",
          "data": {
            "text/plain": [
              "<Figure size 432x288 with 1 Axes>"
            ],
            "image/png": "[encoded data removed]"
          },
          "metadata": {
            "needs_background": "light"
          }
        },
        {
          "output_type": "stream",
          "name": "stdout",
          "text": [
            "b\"it 's a charming and often affecting journey . \" [1.] \n",
            "\n",
            "b'unflinchingly bleak and desperate ' [0.0437015] \n",
            "\n",
            "b'allows us to hope that nolan is poised to embark a major career as a commercial yet inventive filmmaker . ' [1.] \n",
            "\n",
            "b\"the acting , costumes , music , cinematography and sound are all astounding given the production 's austere locales . \" [1.] \n",
            "\n",
            "b\"it 's slow -- very , very slow . \" [0.0437015] \n",
            "\n",
            "b'although laced with humor and a few fanciful touches , the film is a refreshingly serious look at young women . ' [1.] \n",
            "\n",
            "b'a sometimes tedious film . ' [0.0437015] \n",
            "\n",
            "b\"or doing last year 's taxes with your ex-wife . \" [0.95745206] \n",
            "\n",
            "b\"you do n't have to know about music to appreciate the film 's easygoing blend of comedy and romance . \" [1.] \n",
            "\n",
            "b\"in exactly 89 minutes , most of which passed as slowly as if i 'd been sitting naked on an igloo , formula 51 sank from quirky to jerky to utter turkey . \" [0.0437015] \n",
            "\n",
            "b'the mesmerizing performances of the leads keep the film grounded and keep the audience riveted . ' [1.] \n",
            "\n",
            "b'it takes a strange kind of laziness to waste the talents of robert forster , anne meara , eugene levy , and reginald veljohnson all in the same movie . ' [0.82288224] \n",
            "\n",
            "b'... the film suffers from a lack of humor ( something needed to balance out the violence ) ... ' [0.0437015] \n",
            "\n",
            "b\"we root for ( clara and paul ) , even like them , though perhaps it 's an emotion closer to pity . \" [0.0437015] \n",
            "\n",
            "b\"even horror fans will most likely not find what they 're seeking with trouble every day ; the movie lacks both thrills and humor . \" [0.0437015] \n",
            "\n"
          ]
        }
      ]
    },
    {
      "cell_type": "markdown",
      "source": [
        "#Use a GRU"
      ],
      "metadata": {
        "id": "5zp7_yvLWvLG"
      }
    },
    {
      "cell_type": "code",
      "source": [
        "model_gru = tf.keras.Sequential([\n",
        "  tf.keras.layers.Embedding(vocab_size, embedding_dim, input_length=max_length),\n",
        "  tf.keras.layers.Bidirectional(tf.keras.layers.GRU(64)),\n",
        "  tf.keras.layers.Dense(6, activation='relu'),\n",
        "  tf.keras.layers.Dense(1, activation='sigmoid')\n",
        "])\n",
        "\n",
        "model_gru.compile(loss='binary_crossentropy', optimizer='adam', metrics = ['accuracy'])\n",
        "model_gru.summary()\n",
        "\n",
        "fit_model_and_show_results(model_gru, review)"
      ],
      "metadata": {
        "colab": {
          "base_uri": "https://localhost:8080/",
          "height": 1000
        },
        "id": "rsLWJMUuWvpG",
        "outputId": "8f7646a1-d2cf-44e2-874e-104394c43407"
      },
      "execution_count": 43,
      "outputs": [
        {
          "output_type": "stream",
          "name": "stdout",
          "text": [
            "Model: \"sequential_4\"\n",
            "_________________________________________________________________\n",
            " Layer (type)                Output Shape              Param #   \n",
            "=================================================================\n",
            " embedding_5 (Embedding)     (None, 50, 16)            64000     \n",
            "                                                                 \n",
            " bidirectional (Bidirectiona  (None, 128)              31488     \n",
            " l)                                                              \n",
            "                                                                 \n",
            " dense_8 (Dense)             (None, 6)                 774       \n",
            "                                                                 \n",
            " dense_9 (Dense)             (None, 1)                 7         \n",
            "                                                                 \n",
            "=================================================================\n",
            "Total params: 96,269\n",
            "Trainable params: 96,269\n",
            "Non-trainable params: 0\n",
            "_________________________________________________________________\n",
            "Epoch 1/25\n",
            "1250/1250 [==============================] - 53s 40ms/step - loss: 0.4777 - accuracy: 0.7498 - val_loss: 0.4638 - val_accuracy: 0.7821\n",
            "Epoch 2/25\n",
            "1250/1250 [==============================] - 57s 46ms/step - loss: 0.3436 - accuracy: 0.8321 - val_loss: 0.4979 - val_accuracy: 0.7947\n",
            "Epoch 3/25\n",
            "1250/1250 [==============================] - 64s 51ms/step - loss: 0.3032 - accuracy: 0.8526 - val_loss: 0.5376 - val_accuracy: 0.7856\n",
            "Epoch 4/25\n",
            "1250/1250 [==============================] - 59s 47ms/step - loss: 0.2751 - accuracy: 0.8640 - val_loss: 0.6130 - val_accuracy: 0.7878\n",
            "Epoch 5/25\n",
            "1250/1250 [==============================] - 47s 38ms/step - loss: 0.2536 - accuracy: 0.8712 - val_loss: 0.6269 - val_accuracy: 0.7856\n",
            "Epoch 6/25\n",
            "1250/1250 [==============================] - 47s 37ms/step - loss: 0.2380 - accuracy: 0.8795 - val_loss: 0.6893 - val_accuracy: 0.7729\n",
            "Epoch 7/25\n",
            "1250/1250 [==============================] - 46s 37ms/step - loss: 0.2243 - accuracy: 0.8848 - val_loss: 0.8139 - val_accuracy: 0.7661\n",
            "Epoch 8/25\n",
            "1250/1250 [==============================] - 46s 37ms/step - loss: 0.2146 - accuracy: 0.8885 - val_loss: 0.8982 - val_accuracy: 0.7706\n",
            "Epoch 9/25\n",
            "1250/1250 [==============================] - 47s 38ms/step - loss: 0.2057 - accuracy: 0.8899 - val_loss: 0.9041 - val_accuracy: 0.7672\n",
            "Epoch 10/25\n",
            "1250/1250 [==============================] - 47s 37ms/step - loss: 0.1958 - accuracy: 0.8958 - val_loss: 0.9288 - val_accuracy: 0.7569\n",
            "Epoch 11/25\n",
            "1250/1250 [==============================] - 45s 36ms/step - loss: 0.1858 - accuracy: 0.9002 - val_loss: 0.9818 - val_accuracy: 0.7523\n",
            "Epoch 12/25\n",
            "1250/1250 [==============================] - 48s 38ms/step - loss: 0.1786 - accuracy: 0.9026 - val_loss: 1.1880 - val_accuracy: 0.7706\n",
            "Epoch 13/25\n",
            "1250/1250 [==============================] - 46s 36ms/step - loss: 0.1709 - accuracy: 0.9049 - val_loss: 1.1147 - val_accuracy: 0.7649\n",
            "Epoch 14/25\n",
            "1250/1250 [==============================] - 45s 36ms/step - loss: 0.1640 - accuracy: 0.9091 - val_loss: 1.2444 - val_accuracy: 0.7592\n",
            "Epoch 15/25\n",
            "1250/1250 [==============================] - 45s 36ms/step - loss: 0.1568 - accuracy: 0.9112 - val_loss: 1.1945 - val_accuracy: 0.7546\n",
            "Epoch 16/25\n",
            "1250/1250 [==============================] - 47s 37ms/step - loss: 0.1527 - accuracy: 0.9122 - val_loss: 1.2422 - val_accuracy: 0.7683\n",
            "Epoch 17/25\n",
            "1250/1250 [==============================] - 47s 38ms/step - loss: 0.1492 - accuracy: 0.9136 - val_loss: 1.3206 - val_accuracy: 0.7638\n",
            "Epoch 18/25\n",
            "1250/1250 [==============================] - 46s 37ms/step - loss: 0.1436 - accuracy: 0.9171 - val_loss: 1.4041 - val_accuracy: 0.7592\n",
            "Epoch 19/25\n",
            "1250/1250 [==============================] - 46s 37ms/step - loss: 0.1399 - accuracy: 0.9179 - val_loss: 1.4489 - val_accuracy: 0.7534\n",
            "Epoch 20/25\n",
            "1250/1250 [==============================] - 46s 37ms/step - loss: 0.1357 - accuracy: 0.9206 - val_loss: 1.6948 - val_accuracy: 0.7615\n",
            "Epoch 21/25\n",
            "1250/1250 [==============================] - 46s 37ms/step - loss: 0.1339 - accuracy: 0.9212 - val_loss: 1.5398 - val_accuracy: 0.7385\n",
            "Epoch 22/25\n",
            "1250/1250 [==============================] - 46s 37ms/step - loss: 0.1309 - accuracy: 0.9225 - val_loss: 1.5163 - val_accuracy: 0.7546\n",
            "Epoch 23/25\n",
            "1250/1250 [==============================] - 47s 38ms/step - loss: 0.1269 - accuracy: 0.9241 - val_loss: 1.7926 - val_accuracy: 0.7603\n",
            "Epoch 24/25\n",
            "1250/1250 [==============================] - 46s 37ms/step - loss: 0.1262 - accuracy: 0.9240 - val_loss: 1.7981 - val_accuracy: 0.7626\n",
            "Epoch 25/25\n",
            "1250/1250 [==============================] - 46s 36ms/step - loss: 0.1247 - accuracy: 0.9254 - val_loss: 1.6595 - val_accuracy: 0.7603\n"
          ]
        },
        {
          "output_type": "display_data",
          "data": {
            "text/plain": [
              "<Figure size 432x288 with 1 Axes>"
            ],
            "image/png": "[encoded data removed]"
          },
          "metadata": {
            "needs_background": "light"
          }
        },
        {
          "output_type": "display_data",
          "data": {
            "text/plain": [
              "<Figure size 432x288 with 1 Axes>"
            ],
            "image/png": "[encoded data removed]"
          },
          "metadata": {
            "needs_background": "light"
          }
        },
        {
          "output_type": "stream",
          "name": "stdout",
          "text": [
            "b\"it 's a charming and often affecting journey . \" [1.] \n",
            "\n",
            "b'unflinchingly bleak and desperate ' [8.97542e-07] \n",
            "\n",
            "b'allows us to hope that nolan is poised to embark a major career as a commercial yet inventive filmmaker . ' [0.849615] \n",
            "\n",
            "b\"the acting , costumes , music , cinematography and sound are all astounding given the production 's austere locales . \" [0.9999949] \n",
            "\n",
            "b\"it 's slow -- very , very slow . \" [0.452429] \n",
            "\n",
            "b'although laced with humor and a few fanciful touches , the film is a refreshingly serious look at young women . ' [0.99999976] \n",
            "\n",
            "b'a sometimes tedious film . ' [3.4170077e-06] \n",
            "\n",
            "b\"or doing last year 's taxes with your ex-wife . \" [0.999984] \n",
            "\n",
            "b\"you do n't have to know about music to appreciate the film 's easygoing blend of comedy and romance . \" [0.9999918] \n",
            "\n",
            "b\"in exactly 89 minutes , most of which passed as slowly as if i 'd been sitting naked on an igloo , formula 51 sank from quirky to jerky to utter turkey . \" [0.5111468] \n",
            "\n",
            "b'the mesmerizing performances of the leads keep the film grounded and keep the audience riveted . ' [1.] \n",
            "\n",
            "b'it takes a strange kind of laziness to waste the talents of robert forster , anne meara , eugene levy , and reginald veljohnson all in the same movie . ' [1.2348979e-09] \n",
            "\n",
            "b'... the film suffers from a lack of humor ( something needed to balance out the violence ) ... ' [1.362457e-08] \n",
            "\n",
            "b\"we root for ( clara and paul ) , even like them , though perhaps it 's an emotion closer to pity . \" [2.0722858e-07] \n",
            "\n",
            "b\"even horror fans will most likely not find what they 're seeking with trouble every day ; the movie lacks both thrills and humor . \" [0.00198117] \n",
            "\n"
          ]
        }
      ]
    },
    {
      "cell_type": "markdown",
      "source": [
        "#Use a LSTM"
      ],
      "metadata": {
        "id": "TdeldYnSYhqA"
      }
    },
    {
      "cell_type": "code",
      "source": [
        "model_lstm = tf.keras.Sequential([\n",
        "  tf.keras.layers.Embedding(vocab_size, embedding_dim, input_length=max_length),\n",
        "  tf.keras.layers.Bidirectional(tf.keras.layers.LSTM(embedding_dim)),\n",
        "  tf.keras.layers.Dense(6, activation='relu'),\n",
        "  tf.keras.layers.Dense(1, activation='sigmoid')\n",
        "])\n",
        "\n",
        "model_lstm.compile(loss='binary_crossentropy', optimizer='adam', metrics = ['accuracy'])\n",
        "model_lstm.summary()\n",
        "\n",
        "fit_model_and_show_results(model_lstm, review)"
      ],
      "metadata": {
        "colab": {
          "base_uri": "https://localhost:8080/",
          "height": 1000
        },
        "id": "tHAWRIxBYiBR",
        "outputId": "b99ac51a-bb06-422d-c6de-995c0442b9ca"
      },
      "execution_count": 44,
      "outputs": [
        {
          "output_type": "stream",
          "name": "stdout",
          "text": [
            "Model: \"sequential_5\"\n",
            "_________________________________________________________________\n",
            " Layer (type)                Output Shape              Param #   \n",
            "=================================================================\n",
            " embedding_6 (Embedding)     (None, 50, 16)            64000     \n",
            "                                                                 \n",
            " bidirectional_1 (Bidirectio  (None, 32)               4224      \n",
            " nal)                                                            \n",
            "                                                                 \n",
            " dense_10 (Dense)            (None, 6)                 198       \n",
            "                                                                 \n",
            " dense_11 (Dense)            (None, 1)                 7         \n",
            "                                                                 \n",
            "=================================================================\n",
            "Total params: 68,429\n",
            "Trainable params: 68,429\n",
            "Non-trainable params: 0\n",
            "_________________________________________________________________\n",
            "Epoch 1/25\n",
            "1250/1250 [==============================] - 34s 25ms/step - loss: 0.4799 - accuracy: 0.7488 - val_loss: 0.5062 - val_accuracy: 0.7798\n",
            "Epoch 2/25\n",
            "1250/1250 [==============================] - 30s 24ms/step - loss: 0.3562 - accuracy: 0.8288 - val_loss: 0.5165 - val_accuracy: 0.7924\n",
            "Epoch 3/25\n",
            "1250/1250 [==============================] - 30s 24ms/step - loss: 0.3275 - accuracy: 0.8415 - val_loss: 0.5246 - val_accuracy: 0.7959\n",
            "Epoch 4/25\n",
            "1250/1250 [==============================] - 31s 25ms/step - loss: 0.3031 - accuracy: 0.8530 - val_loss: 0.5520 - val_accuracy: 0.7844\n",
            "Epoch 5/25\n",
            "1250/1250 [==============================] - 30s 24ms/step - loss: 0.2795 - accuracy: 0.8633 - val_loss: 0.5927 - val_accuracy: 0.7890\n",
            "Epoch 6/25\n",
            "1250/1250 [==============================] - 30s 24ms/step - loss: 0.2606 - accuracy: 0.8715 - val_loss: 0.6345 - val_accuracy: 0.7787\n",
            "Epoch 7/25\n",
            "1250/1250 [==============================] - 29s 23ms/step - loss: 0.2434 - accuracy: 0.8793 - val_loss: 0.6256 - val_accuracy: 0.7821\n",
            "Epoch 8/25\n",
            "1250/1250 [==============================] - 30s 24ms/step - loss: 0.2307 - accuracy: 0.8823 - val_loss: 0.7197 - val_accuracy: 0.7810\n",
            "Epoch 9/25\n",
            "1250/1250 [==============================] - 30s 24ms/step - loss: 0.2181 - accuracy: 0.8887 - val_loss: 0.7797 - val_accuracy: 0.7752\n",
            "Epoch 10/25\n",
            "1250/1250 [==============================] - 29s 24ms/step - loss: 0.2073 - accuracy: 0.8908 - val_loss: 0.8261 - val_accuracy: 0.7534\n",
            "Epoch 11/25\n",
            "1250/1250 [==============================] - 29s 23ms/step - loss: 0.1980 - accuracy: 0.8969 - val_loss: 0.8451 - val_accuracy: 0.7615\n",
            "Epoch 12/25\n",
            "1250/1250 [==============================] - 29s 23ms/step - loss: 0.1896 - accuracy: 0.9016 - val_loss: 0.8415 - val_accuracy: 0.7741\n",
            "Epoch 13/25\n",
            "1250/1250 [==============================] - 31s 25ms/step - loss: 0.1819 - accuracy: 0.9030 - val_loss: 0.9229 - val_accuracy: 0.7672\n",
            "Epoch 14/25\n",
            "1250/1250 [==============================] - 29s 24ms/step - loss: 0.1760 - accuracy: 0.9055 - val_loss: 0.9232 - val_accuracy: 0.7615\n",
            "Epoch 15/25\n",
            "1250/1250 [==============================] - 30s 24ms/step - loss: 0.1692 - accuracy: 0.9085 - val_loss: 1.0294 - val_accuracy: 0.7557\n",
            "Epoch 16/25\n",
            "1250/1250 [==============================] - 30s 24ms/step - loss: 0.1645 - accuracy: 0.9123 - val_loss: 0.9613 - val_accuracy: 0.7626\n",
            "Epoch 17/25\n",
            "1250/1250 [==============================] - 30s 24ms/step - loss: 0.1585 - accuracy: 0.9141 - val_loss: 1.1012 - val_accuracy: 0.7626\n",
            "Epoch 18/25\n",
            "1250/1250 [==============================] - 30s 24ms/step - loss: 0.1545 - accuracy: 0.9158 - val_loss: 1.2117 - val_accuracy: 0.7511\n",
            "Epoch 19/25\n",
            "1250/1250 [==============================] - 31s 24ms/step - loss: 0.1519 - accuracy: 0.9175 - val_loss: 1.0745 - val_accuracy: 0.7489\n",
            "Epoch 20/25\n",
            "1250/1250 [==============================] - 30s 24ms/step - loss: 0.1460 - accuracy: 0.9176 - val_loss: 1.2164 - val_accuracy: 0.7408\n",
            "Epoch 21/25\n",
            "1250/1250 [==============================] - 31s 25ms/step - loss: 0.1426 - accuracy: 0.9200 - val_loss: 1.3056 - val_accuracy: 0.7511\n",
            "Epoch 22/25\n",
            "1250/1250 [==============================] - 30s 24ms/step - loss: 0.1398 - accuracy: 0.9220 - val_loss: 1.3513 - val_accuracy: 0.7511\n",
            "Epoch 23/25\n",
            "1250/1250 [==============================] - 30s 24ms/step - loss: 0.1364 - accuracy: 0.9228 - val_loss: 1.3911 - val_accuracy: 0.7557\n",
            "Epoch 24/25\n",
            "1250/1250 [==============================] - 30s 24ms/step - loss: 0.1344 - accuracy: 0.9245 - val_loss: 1.4233 - val_accuracy: 0.7454\n",
            "Epoch 25/25\n",
            "1250/1250 [==============================] - 30s 24ms/step - loss: 0.1325 - accuracy: 0.9251 - val_loss: 1.5510 - val_accuracy: 0.7661\n"
          ]
        },
        {
          "output_type": "display_data",
          "data": {
            "text/plain": [
              "<Figure size 432x288 with 1 Axes>"
            ],
            "image/png": "[encoded data removed]"
          },
          "metadata": {
            "needs_background": "light"
          }
        },
        {
          "output_type": "display_data",
          "data": {
            "text/plain": [
              "<Figure size 432x288 with 1 Axes>"
            ],
            "image/png": "[encoded data removed]"
          },
          "metadata": {
            "needs_background": "light"
          }
        },
        {
          "output_type": "stream",
          "name": "stdout",
          "text": [
            "b\"it 's a charming and often affecting journey . \" [0.99999124] \n",
            "\n",
            "b'unflinchingly bleak and desperate ' [4.4711223e-06] \n",
            "\n",
            "b'allows us to hope that nolan is poised to embark a major career as a commercial yet inventive filmmaker . ' [0.99891007] \n",
            "\n",
            "b\"the acting , costumes , music , cinematography and sound are all astounding given the production 's austere locales . \" [0.9998591] \n",
            "\n",
            "b\"it 's slow -- very , very slow . \" [0.76430035] \n",
            "\n",
            "b'although laced with humor and a few fanciful touches , the film is a refreshingly serious look at young women . ' [0.9999561] \n",
            "\n",
            "b'a sometimes tedious film . ' [0.00488862] \n",
            "\n",
            "b\"or doing last year 's taxes with your ex-wife . \" [0.9976383] \n",
            "\n",
            "b\"you do n't have to know about music to appreciate the film 's easygoing blend of comedy and romance . \" [0.9990778] \n",
            "\n",
            "b\"in exactly 89 minutes , most of which passed as slowly as if i 'd been sitting naked on an igloo , formula 51 sank from quirky to jerky to utter turkey . \" [1.896681e-07] \n",
            "\n",
            "b'the mesmerizing performances of the leads keep the film grounded and keep the audience riveted . ' [1.] \n",
            "\n",
            "b'it takes a strange kind of laziness to waste the talents of robert forster , anne meara , eugene levy , and reginald veljohnson all in the same movie . ' [1.7908059e-07] \n",
            "\n",
            "b'... the film suffers from a lack of humor ( something needed to balance out the violence ) ... ' [5.0111603e-06] \n",
            "\n",
            "b\"we root for ( clara and paul ) , even like them , though perhaps it 's an emotion closer to pity . \" [1.3900355e-06] \n",
            "\n",
            "b\"even horror fans will most likely not find what they 're seeking with trouble every day ; the movie lacks both thrills and humor . \" [0.69411874] \n",
            "\n"
          ]
        }
      ]
    },
    {
      "cell_type": "markdown",
      "source": [
        "#Use a LSTMs"
      ],
      "metadata": {
        "id": "wQjW4rTiYwNh"
      }
    },
    {
      "cell_type": "code",
      "source": [
        "model_lstms = tf.keras.Sequential([\n",
        "  tf.keras.layers.Embedding(vocab_size, embedding_dim, input_length=max_length),\n",
        "  tf.keras.layers.Bidirectional(tf.keras.layers.LSTM(embedding_dim, return_sequences=True)),\n",
        "  tf.keras.layers.Bidirectional(tf.keras.layers.LSTM(embedding_dim)),\n",
        "  tf.keras.layers.Dense(6, activation='relu'),\n",
        "  tf.keras.layers.Dense(1, activation='sigmoid')\n",
        "])\n",
        "\n",
        "model_lstms.compile(loss='binary_crossentropy', optimizer='adam', metrics = ['accuracy'])\n",
        "model_lstms.summary()\n",
        "\n",
        "fit_model_and_show_results(model_lstms, review)"
      ],
      "metadata": {
        "colab": {
          "base_uri": "https://localhost:8080/",
          "height": 1000
        },
        "id": "s6Cm7CJ9Y2U4",
        "outputId": "2d011fd3-8152-482e-85dd-885146e84ed2"
      },
      "execution_count": 45,
      "outputs": [
        {
          "output_type": "stream",
          "name": "stdout",
          "text": [
            "Model: \"sequential_6\"\n",
            "_________________________________________________________________\n",
            " Layer (type)                Output Shape              Param #   \n",
            "=================================================================\n",
            " embedding_7 (Embedding)     (None, 50, 16)            64000     \n",
            "                                                                 \n",
            " bidirectional_2 (Bidirectio  (None, 50, 32)           4224      \n",
            " nal)                                                            \n",
            "                                                                 \n",
            " bidirectional_3 (Bidirectio  (None, 32)               6272      \n",
            " nal)                                                            \n",
            "                                                                 \n",
            " dense_12 (Dense)            (None, 6)                 198       \n",
            "                                                                 \n",
            " dense_13 (Dense)            (None, 1)                 7         \n",
            "                                                                 \n",
            "=================================================================\n",
            "Total params: 74,701\n",
            "Trainable params: 74,701\n",
            "Non-trainable params: 0\n",
            "_________________________________________________________________\n",
            "Epoch 1/25\n",
            "1250/1250 [==============================] - 63s 45ms/step - loss: 0.4774 - accuracy: 0.7544 - val_loss: 0.4617 - val_accuracy: 0.7901\n",
            "Epoch 2/25\n",
            "1250/1250 [==============================] - 56s 45ms/step - loss: 0.3512 - accuracy: 0.8296 - val_loss: 0.5034 - val_accuracy: 0.7890\n",
            "Epoch 3/25\n",
            "1250/1250 [==============================] - 55s 44ms/step - loss: 0.3137 - accuracy: 0.8468 - val_loss: 0.5956 - val_accuracy: 0.7546\n",
            "Epoch 4/25\n",
            "1250/1250 [==============================] - 54s 44ms/step - loss: 0.2836 - accuracy: 0.8581 - val_loss: 0.5840 - val_accuracy: 0.7764\n",
            "Epoch 5/25\n",
            "1250/1250 [==============================] - 56s 45ms/step - loss: 0.2595 - accuracy: 0.8665 - val_loss: 0.5905 - val_accuracy: 0.7592\n",
            "Epoch 6/25\n",
            "1250/1250 [==============================] - 55s 44ms/step - loss: 0.2390 - accuracy: 0.8766 - val_loss: 0.6725 - val_accuracy: 0.7695\n",
            "Epoch 7/25\n",
            "1250/1250 [==============================] - 56s 45ms/step - loss: 0.2229 - accuracy: 0.8839 - val_loss: 0.7100 - val_accuracy: 0.7603\n",
            "Epoch 8/25\n",
            "1250/1250 [==============================] - 56s 45ms/step - loss: 0.2092 - accuracy: 0.8889 - val_loss: 0.7330 - val_accuracy: 0.7615\n",
            "Epoch 9/25\n",
            "1250/1250 [==============================] - 56s 45ms/step - loss: 0.1977 - accuracy: 0.8935 - val_loss: 0.8239 - val_accuracy: 0.7443\n",
            "Epoch 10/25\n",
            "1250/1250 [==============================] - 56s 44ms/step - loss: 0.1877 - accuracy: 0.9003 - val_loss: 0.8508 - val_accuracy: 0.7580\n",
            "Epoch 11/25\n",
            "1250/1250 [==============================] - 55s 44ms/step - loss: 0.1794 - accuracy: 0.9031 - val_loss: 0.9476 - val_accuracy: 0.7443\n",
            "Epoch 12/25\n",
            "1250/1250 [==============================] - 56s 45ms/step - loss: 0.1720 - accuracy: 0.9063 - val_loss: 0.9784 - val_accuracy: 0.7408\n",
            "Epoch 13/25\n",
            "1250/1250 [==============================] - 56s 45ms/step - loss: 0.1670 - accuracy: 0.9088 - val_loss: 0.9467 - val_accuracy: 0.7397\n",
            "Epoch 14/25\n",
            "1250/1250 [==============================] - 55s 44ms/step - loss: 0.1590 - accuracy: 0.9131 - val_loss: 1.0117 - val_accuracy: 0.7305\n",
            "Epoch 15/25\n",
            "1250/1250 [==============================] - 56s 45ms/step - loss: 0.1550 - accuracy: 0.9159 - val_loss: 0.9548 - val_accuracy: 0.7385\n",
            "Epoch 16/25\n",
            "1250/1250 [==============================] - 57s 46ms/step - loss: 0.1484 - accuracy: 0.9165 - val_loss: 1.1622 - val_accuracy: 0.7328\n",
            "Epoch 17/25\n",
            "1250/1250 [==============================] - 57s 46ms/step - loss: 0.1439 - accuracy: 0.9197 - val_loss: 1.1921 - val_accuracy: 0.7213\n",
            "Epoch 18/25\n",
            "1250/1250 [==============================] - 56s 44ms/step - loss: 0.1423 - accuracy: 0.9203 - val_loss: 1.1977 - val_accuracy: 0.7328\n",
            "Epoch 19/25\n",
            "1250/1250 [==============================] - 57s 46ms/step - loss: 0.1380 - accuracy: 0.9214 - val_loss: 1.2513 - val_accuracy: 0.7282\n",
            "Epoch 20/25\n",
            "1250/1250 [==============================] - 58s 46ms/step - loss: 0.1328 - accuracy: 0.9226 - val_loss: 1.3036 - val_accuracy: 0.7271\n",
            "Epoch 21/25\n",
            "1250/1250 [==============================] - 57s 46ms/step - loss: 0.1314 - accuracy: 0.9254 - val_loss: 1.1675 - val_accuracy: 0.7328\n",
            "Epoch 22/25\n",
            "1250/1250 [==============================] - 56s 45ms/step - loss: 0.1300 - accuracy: 0.9247 - val_loss: 1.3170 - val_accuracy: 0.7248\n",
            "Epoch 23/25\n",
            "1250/1250 [==============================] - 55s 44ms/step - loss: 0.1264 - accuracy: 0.9256 - val_loss: 1.2944 - val_accuracy: 0.7236\n",
            "Epoch 24/25\n",
            "1250/1250 [==============================] - 55s 44ms/step - loss: 0.1237 - accuracy: 0.9283 - val_loss: 1.3067 - val_accuracy: 0.7317\n",
            "Epoch 25/25\n",
            "1250/1250 [==============================] - 57s 46ms/step - loss: 0.1212 - accuracy: 0.9298 - val_loss: 1.4003 - val_accuracy: 0.7408\n"
          ]
        },
        {
          "output_type": "display_data",
          "data": {
            "text/plain": [
              "<Figure size 432x288 with 1 Axes>"
            ],
            "image/png": "[encoded data removed]"
          },
          "metadata": {
            "needs_background": "light"
          }
        },
        {
          "output_type": "display_data",
          "data": {
            "text/plain": [
              "<Figure size 432x288 with 1 Axes>"
            ],
            "image/png": "[encoded data removed]"
          },
          "metadata": {
            "needs_background": "light"
          }
        },
        {
          "output_type": "stream",
          "name": "stdout",
          "text": [
            "WARNING:tensorflow:5 out of the last 7 calls to <function Model.make_predict_function.<locals>.predict_function at 0x7f225a2a28c0> triggered tf.function retracing. Tracing is expensive and the excessive number of tracings could be due to (1) creating @tf.function repeatedly in a loop, (2) passing tensors with different shapes, (3) passing Python objects instead of tensors. For (1), please define your @tf.function outside of the loop. For (2), @tf.function has experimental_relax_shapes=True option that relaxes argument shapes that can avoid unnecessary retracing. For (3), please refer to https://www.tensorflow.org/guide/function#controlling_retracing and https://www.tensorflow.org/api_docs/python/tf/function for  more details.\n",
            "b\"it 's a charming and often affecting journey . \" [0.99998975] \n",
            "\n",
            "b'unflinchingly bleak and desperate ' [6.626789e-05] \n",
            "\n",
            "b'allows us to hope that nolan is poised to embark a major career as a commercial yet inventive filmmaker . ' [0.9051231] \n",
            "\n",
            "b\"the acting , costumes , music , cinematography and sound are all astounding given the production 's austere locales . \" [0.06014884] \n",
            "\n",
            "b\"it 's slow -- very , very slow . \" [0.00172156] \n",
            "\n",
            "b'although laced with humor and a few fanciful touches , the film is a refreshingly serious look at young women . ' [0.9999212] \n",
            "\n",
            "b'a sometimes tedious film . ' [0.00241649] \n",
            "\n",
            "b\"or doing last year 's taxes with your ex-wife . \" [0.8623433] \n",
            "\n",
            "b\"you do n't have to know about music to appreciate the film 's easygoing blend of comedy and romance . \" [0.04997241] \n",
            "\n",
            "b\"in exactly 89 minutes , most of which passed as slowly as if i 'd been sitting naked on an igloo , formula 51 sank from quirky to jerky to utter turkey . \" [8.78468e-05] \n",
            "\n",
            "b'the mesmerizing performances of the leads keep the film grounded and keep the audience riveted . ' [0.999987] \n",
            "\n",
            "b'it takes a strange kind of laziness to waste the talents of robert forster , anne meara , eugene levy , and reginald veljohnson all in the same movie . ' [0.00093195] \n",
            "\n",
            "b'... the film suffers from a lack of humor ( something needed to balance out the violence ) ... ' [9.4616706e-05] \n",
            "\n",
            "b\"we root for ( clara and paul ) , even like them , though perhaps it 's an emotion closer to pity . \" [0.00021929] \n",
            "\n",
            "b\"even horror fans will most likely not find what they 're seeking with trouble every day ; the movie lacks both thrills and humor . \" [0.9739499] \n",
            "\n"
          ]
        }
      ]
    },
    {
      "cell_type": "code",
      "source": [
        ""
      ],
      "metadata": {
        "id": "7MB4O7QfY1E-"
      },
      "execution_count": null,
      "outputs": []
    }
  ]
}